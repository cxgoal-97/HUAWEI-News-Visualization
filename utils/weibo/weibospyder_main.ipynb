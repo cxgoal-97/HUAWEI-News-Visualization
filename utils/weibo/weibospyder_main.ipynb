{
 "cells": [
  {
   "cell_type": "code",
   "execution_count": 1,
   "metadata": {},
   "outputs": [],
   "source": [
    "from weibospyder import WeiboSpyder"
   ]
  },
  {
   "cell_type": "code",
   "execution_count": 2,
   "metadata": {},
   "outputs": [],
   "source": [
    "spyder = WeiboSpyder(user=\"13006363025@163.com\", password=\"a123456\")"
   ]
  },
  {
   "cell_type": "code",
   "execution_count": 3,
   "metadata": {},
   "outputs": [],
   "source": [
    "spyder.login()"
   ]
  },
  {
   "cell_type": "code",
   "execution_count": 11,
   "metadata": {},
   "outputs": [],
   "source": [
    "keyword = \"华为 孟晚舟\"\n",
    "start_time = \"2019-01-00-00\" #年-月-日-小时\n",
    "end_time=\"2019-12-30-00\""
   ]
  },
  {
   "cell_type": "code",
   "execution_count": 12,
   "metadata": {},
   "outputs": [
    {
     "name": "stdout",
     "output_type": "stream",
     "text": [
      "1 无展开全文\n",
      "2 无展开全文\n",
      "3 无展开全文\n",
      "关键词：华为 孟晚舟, 起始时间：2019-01-00-00-终止时间：2019-12-30-00。 爬虫结束。\n"
     ]
    }
   ],
   "source": [
    "res = spyder.searchhot(keyword=keyword, start_time=start_time, end_time=end_time, maxpages=3, maxiterms=100)"
   ]
  },
  {
   "cell_type": "code",
   "execution_count": 14,
   "metadata": {},
   "outputs": [
    {
     "name": "stdout",
     "output_type": "stream",
     "text": [
      "成功保存\n"
     ]
    }
   ],
   "source": [
    "spyder.saveinfo(res, keyword+start_time+end_time+\".json\")"
   ]
  },
  {
   "cell_type": "code",
   "execution_count": null,
   "metadata": {},
   "outputs": [],
   "source": [
    "res"
   ]
  }
 ],
 "metadata": {
  "kernelspec": {
   "display_name": "spyder",
   "language": "python",
   "name": "spyder"
  },
  "language_info": {
   "codemirror_mode": {
    "name": "ipython",
    "version": 3
   },
   "file_extension": ".py",
   "mimetype": "text/x-python",
   "name": "python",
   "nbconvert_exporter": "python",
   "pygments_lexer": "ipython3",
   "version": "3.7.0"
  }
 },
 "nbformat": 4,
 "nbformat_minor": 2
}
