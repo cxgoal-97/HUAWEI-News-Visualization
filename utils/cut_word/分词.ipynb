{
 "cells": [
  {
   "cell_type": "code",
   "execution_count": 1,
   "metadata": {},
   "outputs": [],
   "source": [
    "import json\n",
    "import pkuseg\n",
    "import json\n",
    "import glob\n",
    "from collections import Counter"
   ]
  },
  {
   "cell_type": "markdown",
   "metadata": {},
   "source": [
    "## 读取停用词"
   ]
  },
  {
   "cell_type": "code",
   "execution_count": 2,
   "metadata": {},
   "outputs": [],
   "source": [
    "stopwords = []\n",
    "with open(\"./stopwords.txt\", encoding='utf-8') as f:\n",
    "    stopwords = f.read()"
   ]
  },
  {
   "cell_type": "code",
   "execution_count": 3,
   "metadata": {},
   "outputs": [],
   "source": [
    "seg = pkuseg.pkuseg(user_dict=\"./my_dict.txt\")"
   ]
  },
  {
   "cell_type": "code",
   "execution_count": 4,
   "metadata": {},
   "outputs": [],
   "source": [
    "for i in glob.glob(\"../../data/baidu/*.json\"):\n",
    "    with open(i, \"r\", encoding=\"utf-8\") as f:\n",
    "        content = f.read()\n",
    "        content = json.loads(content)\n",
    "        content = [i['content'] for i in content]\n",
    "        content = \" \".join(content)\n",
    "        f.close()\n",
    "    new_text = []\n",
    "    content = seg.cut(content)\n",
    "    for w in content:\n",
    "        if w not in stopwords:\n",
    "            new_text.append(w)\n",
    "    counter = Counter(new_text)\n",
    "    zipped = zip(counter.keys(), counter.values())\n",
    "    res = dict(zipped)\n",
    "    with open(\"baidu_cutword/\"+i.split(\"\\\\\")[-1], 'w+', encoding='utf-8') as f:\n",
    "        f.write(json.dumps(res,ensure_ascii=False))\n",
    "        f.close()"
   ]
  }
 ],
 "metadata": {
  "kernelspec": {
   "display_name": "spyder",
   "language": "python",
   "name": "spyder"
  },
  "language_info": {
   "codemirror_mode": {
    "name": "ipython",
    "version": 3
   },
   "file_extension": ".py",
   "mimetype": "text/x-python",
   "name": "python",
   "nbconvert_exporter": "python",
   "pygments_lexer": "ipython3",
   "version": "3.7.0"
  }
 },
 "nbformat": 4,
 "nbformat_minor": 2
}
